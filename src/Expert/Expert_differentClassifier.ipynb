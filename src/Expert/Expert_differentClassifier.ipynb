{
 "cells": [
  {
   "cell_type": "markdown",
   "id": "de87d2f7",
   "metadata": {},
   "source": [
    "## Expert Level"
   ]
  },
  {
   "cell_type": "code",
   "execution_count": 1,
   "id": "0c9db836",
   "metadata": {},
   "outputs": [],
   "source": [
    "import glob\n",
    "import cv2\n",
    "import matplotlib.pyplot as plt\n",
    "from PIL import Image, ImageOps, ImageFilter\n",
    "from skimage import data, io, filters\n",
    "from skimage import feature as ft\n",
    "from sklearn.model_selection import train_test_split\n",
    "from sklearn import svm\n",
    "from sklearn.ensemble import RandomForestClassifier\n",
    "from sklearn.naive_bayes import GaussianNB\n",
    "from sklearn.neighbors import KNeighborsClassifier\n",
    "import numpy as np"
   ]
  },
  {
   "cell_type": "markdown",
   "id": "81d5e8c0",
   "metadata": {},
   "source": [
    "### 1.Reading images"
   ]
  },
  {
   "cell_type": "code",
   "execution_count": 6,
   "id": "5371cfcb",
   "metadata": {},
   "outputs": [
    {
     "name": "stdout",
     "output_type": "stream",
     "text": [
      "5998\n",
      "5998\n"
     ]
    }
   ],
   "source": [
    "dataset_path = \"F:\\\\NUS SOC Summer Workshop\\\\Project 1_ Traffic Sign Recogniti\\\\Dataset_1\\\\images\"\n",
    "\n",
    "X = []\n",
    "y = []\n",
    "for i in glob.glob(dataset_path + '\\\\*.png', recursive=True):\n",
    "    \n",
    "    label = i.split(\"images\")[1][1:4]\n",
    "    y.append(label)\n",
    "    # write code to read ecah file i, and append it to list X\n",
    "    X.append(cv2.imread(i))\n",
    "\n",
    "\n",
    "# you should have X, y with 5998 entries on each.\n",
    "print(len(y))\n",
    "print(len(X))"
   ]
  },
  {
   "cell_type": "markdown",
   "id": "1fb698cc",
   "metadata": {},
   "source": [
    "### 2.Pre-processing images"
   ]
  },
  {
   "cell_type": "code",
   "execution_count": 7,
   "id": "149de06c",
   "metadata": {},
   "outputs": [
    {
     "data": {
      "text/plain": [
       "<matplotlib.image.AxesImage at 0x25d02f045c0>"
      ]
     },
     "execution_count": 7,
     "metadata": {},
     "output_type": "execute_result"
    },
    {
     "data": {
      "image/png": "[encoded data removed]",
      "text/plain": [
       "<Figure size 432x288 with 2 Axes>"
      ]
     },
     "metadata": {
      "needs_background": "light"
     },
     "output_type": "display_data"
    }
   ],
   "source": [
    "X_processed=[]\n",
    "for x in X:\n",
    "    # Write code to resize image x to 48x48 and store in temp_x\n",
    "    temp_x = cv2.resize(x, (48, 48))\n",
    "    # Write code to convert temp_x to grayscale\n",
    "    temp_x_gray = cv2.cvtColor(temp_x, cv2.COLOR_BGR2GRAY)\n",
    "    # Append the converted image into X_processed\n",
    "    X_processed.append(temp_x_gray)\n",
    "fig = plt.figure()\n",
    "fig.add_subplot(1,2,1)\n",
    "plt.imshow(X[1])\n",
    "fig.add_subplot(1, 2, 2)\n",
    "plt.imshow(X_processed[1],cmap='gray')"
   ]
  },
  {
   "cell_type": "markdown",
   "id": "a467a130",
   "metadata": {},
   "source": [
    "### 3.Calculating Features and Splitting train/testsets"
   ]
  },
  {
   "cell_type": "code",
   "execution_count": 9,
   "id": "c19eb071",
   "metadata": {},
   "outputs": [
    {
     "name": "stdout",
     "output_type": "stream",
     "text": [
      "4798 1200 4798 1200\n"
     ]
    }
   ],
   "source": [
    "X_features = []\n",
    "for x in X_processed:\n",
    "    x_feature = ft.hog(x, orientations=8, pixels_per_cell=(10, 10),cells_per_block=(1, 1), visualize=False, multichannel=False)\n",
    "    X_features.append(x_feature)\n",
    "# write code to Split training & testing sets using sklearn.model_selection.train_test_split\n",
    "X_train, X_test, y_train, y_test = train_test_split(X_features, y, test_size = 0.2)\n",
    "print(len(X_train),len(X_test),len(y_train),len(y_test))"
   ]
  },
  {
   "cell_type": "markdown",
   "id": "425e00c7",
   "metadata": {},
   "source": [
    "### 4.Training and testing the classifier"
   ]
  },
  {
   "cell_type": "markdown",
   "id": "bf0226c9",
   "metadata": {},
   "source": [
    "#### 4.1 SVM"
   ]
  },
  {
   "cell_type": "code",
   "execution_count": 10,
   "id": "22a46852",
   "metadata": {},
   "outputs": [
    {
     "data": {
      "text/plain": [
       "0.9441666666666667"
      ]
     },
     "execution_count": 10,
     "metadata": {},
     "output_type": "execute_result"
    }
   ],
   "source": [
    "clf = svm.SVC()\n",
    "clf.fit(X_train, y_train)\n",
    "accuracy_SVM=clf.score(X_test, y_test)\n",
    "accuracy_SVM"
   ]
  },
  {
   "cell_type": "markdown",
   "id": "2138b55b",
   "metadata": {},
   "source": [
    "#### 4.2 RandomForest classifier"
   ]
  },
  {
   "cell_type": "code",
   "execution_count": 29,
   "id": "cb30957a",
   "metadata": {},
   "outputs": [
    {
     "data": {
      "text/plain": [
       "0.975"
      ]
     },
     "execution_count": 29,
     "metadata": {},
     "output_type": "execute_result"
    }
   ],
   "source": [
    "rfclf = RandomForestClassifier()\n",
    "rfclf.fit(X_train, y_train)\n",
    "accuracy_rfclf=rfclf.score(X_test, y_test)\n",
    "accuracy_rfclf"
   ]
  },
  {
   "cell_type": "markdown",
   "id": "2e4a7d8e",
   "metadata": {},
   "source": [
    "#### 4.3 Gaussian Naive Bayes"
   ]
  },
  {
   "cell_type": "code",
   "execution_count": 30,
   "id": "dc7806aa",
   "metadata": {},
   "outputs": [
    {
     "data": {
      "text/plain": [
       "0.7816666666666666"
      ]
     },
     "execution_count": 30,
     "metadata": {},
     "output_type": "execute_result"
    }
   ],
   "source": [
    "gnbclf = GaussianNB()\n",
    "gnbclf.fit(X_train, y_train)\n",
    "accuracy_gnbclf=gnbclf.score(X_test, y_test)\n",
    "accuracy_gnbclf"
   ]
  },
  {
   "cell_type": "markdown",
   "id": "71a5de4f",
   "metadata": {},
   "source": [
    "#### 4.4 k-Nearest Neighbours classifier"
   ]
  },
  {
   "cell_type": "code",
   "execution_count": 36,
   "id": "4caad195",
   "metadata": {},
   "outputs": [
    {
     "data": {
      "text/plain": [
       "[0.9683333333333334,\n",
       " 0.8508333333333333,\n",
       " 0.8366666666666667,\n",
       " 0.8233333333333334,\n",
       " 0.8025]"
      ]
     },
     "execution_count": 36,
     "metadata": {},
     "output_type": "execute_result"
    }
   ],
   "source": [
    "# the number of neighbours (k) in values of [1, 3, 5, 7, 9]\n",
    "result = []\n",
    "for i in range(1, 6):\n",
    "    kneighclf = KNeighborsClassifier(n_neighbors=2*i-1)\n",
    "    kneighclf.fit(X_train, y_train)\n",
    "    result.append(kneighclf.score(X_test, y_test))\n",
    "accuracy_kneighclf=max(result)\n",
    "result"
   ]
  },
  {
   "cell_type": "markdown",
   "id": "cf026655",
   "metadata": {},
   "source": [
    "#### Showing the results of different calssifier"
   ]
  },
  {
   "cell_type": "code",
   "execution_count": 59,
   "id": "84dbbcba",
   "metadata": {},
   "outputs": [
    {
     "data": {
      "image/png": "[encoded data removed]",
      "text/plain": [
       "<Figure size 432x288 with 1 Axes>"
      ]
     },
     "metadata": {
      "needs_background": "light"
     },
     "output_type": "display_data"
    }
   ],
   "source": [
    "name = ['SVM','RandomForest','Gaussian','k-Nearest']\n",
    "accu= [accuracy_SVM, accuracy_rfclf,accuracy_gnbclf, accuracy_kneighclf]\n",
    "plt.bar(name, accu, color=\"#87CEFA\")\n",
    "plt.xlabel('classifier')\n",
    "plt.ylabel(\"accuracy\")\n",
    "plt.title(\"The accuracy of different calssifier\")\n",
    "for a, b in zip(name, accu):\n",
    "    plt.text(a, b, '%.6f' % b, ha='center', va='bottom', fontsize=11)\n",
    "plt.show()"
   ]
  },
  {
   "cell_type": "code",
   "execution_count": null,
   "id": "e934ecd9",
   "metadata": {},
   "outputs": [],
   "source": []
  }
 ],
 "metadata": {
  "kernelspec": {
   "display_name": "Python [conda env:.conda-tensorflow] *",
   "language": "python",
   "name": "conda-env-.conda-tensorflow-py"
  },
  "language_info": {
   "codemirror_mode": {
    "name": "ipython",
    "version": 3
   },
   "file_extension": ".py",
   "mimetype": "text/x-python",
   "name": "python",
   "nbconvert_exporter": "python",
   "pygments_lexer": "ipython3",
   "version": "3.6.2"
  }
 },
 "nbformat": 4,
 "nbformat_minor": 5
}
