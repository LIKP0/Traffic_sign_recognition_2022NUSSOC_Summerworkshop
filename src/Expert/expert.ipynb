{
 "cells": [
  {
   "cell_type": "code",
   "execution_count": 2,
   "id": "182fc4bc",
   "metadata": {},
   "outputs": [],
   "source": [
    "import glob\n",
    "import cv2\n",
    "import matplotlib.pyplot as plt\n",
    "from PIL import Image, ImageOps, ImageFilter\n",
    "from skimage import data, io, filters\n",
    "from skimage import feature as ft\n",
    "from sklearn.model_selection import train_test_split\n",
    "from sklearn import svm\n",
    "from sklearn.ensemble import RandomForestClassifier\n",
    "from sklearn.naive_bayes import GaussianNB\n",
    "from sklearn.neighbors import KNeighborsClassifier\n",
    "import numpy as np\n",
    "from collections import Counter\n",
    "import random\n",
    "import Preprocess\n",
    "from skimage import util\n",
    "import joblib"
   ]
  },
  {
   "cell_type": "markdown",
   "id": "be69d25e",
   "metadata": {},
   "source": [
    "##  Data augmentation"
   ]
  },
  {
   "cell_type": "code",
   "execution_count": 7,
   "id": "beaf7792",
   "metadata": {},
   "outputs": [
    {
     "name": "stdout",
     "output_type": "stream",
     "text": [
      "39209\n",
      "39209\n"
     ]
    }
   ],
   "source": [
    "# read images (dataset2)\n",
    "X = []\n",
    "y = []\n",
    "for j in range (0,43):\n",
    "    dataset_path = \"F:\\\\NUS SOC 2021 phase2\\\\Project 1_ Traffic Sign Recogniti\\\\Dataset_2_Train\\\\Train\\\\\" + str(j)\n",
    "    for i in glob.glob(dataset_path + '\\\\*.png', recursive=True):\n",
    "        label = i.split(\"Dataset_2_Train\\\\Train\\\\\"+ str(j)+\"\\\\\")[1][0:5]\n",
    "        y.append(label)\n",
    "        X.append(cv2.imread(i))       \n",
    "print(len(y))\n",
    "print(len(X))\n",
    "\n",
    "\n",
    "# # read images (dataset1)\n",
    "# dataset_path = \"F:\\\\NUS SOC 2021 phase2\\\\Project 1_ Traffic Sign Recogniti\\\\Dataset_1\\\\images\"\n",
    "# X = []\n",
    "# y = []\n",
    "# for i in glob.glob(dataset_path + '\\\\*.png', recursive=True):   \n",
    "#     label = i.split(\"images\")[1][1:4]\n",
    "#     y.append(label)\n",
    "#     X.append(cv2.imread(i))\n",
    "# print(len(y))\n",
    "# print(len(X))"
   ]
  },
  {
   "cell_type": "code",
   "execution_count": 11,
   "id": "5db8c4b2",
   "metadata": {},
   "outputs": [
    {
     "name": "stdout",
     "output_type": "stream",
     "text": [
      "mean size of each type:  911.8372093023256\n",
      "median size of each type:  600.0\n",
      "size of X after resampling is:  44789\n",
      "size of y after resampling is:  44789\n",
      "size of X after augmentation 223945\n",
      "size of y after augmentation 223945\n"
     ]
    }
   ],
   "source": [
    "# resample\n",
    "X1, y1 = Preprocess.resample(X, y)\n",
    "\n",
    "# data augmentation\n",
    "X2=X1.copy()\n",
    "y2=y1.copy()\n",
    "X_noisy, y_noisy = Preprocess.gaussianNoise(X1, y1)\n",
    "X2+=X_noisy\n",
    "y2+=y_noisy\n",
    "X_affined, y_affined = Preprocess.affine(X1, y1)\n",
    "X2+=X_affined\n",
    "y2+=y_affined\n",
    "X_rotated, y_rotated = Preprocess.rotate(X1, y1)\n",
    "X2+=X_rotated\n",
    "y2+=y_rotated\n",
    "X_cropped, y_cropped = Preprocess.crop(X1, y1)\n",
    "X2+=X_cropped\n",
    "y2+=y_cropped\n",
    "\n",
    "print(\"size of X after augmentation\",len(X2))\n",
    "print(\"size of y after augmentation\",len(y2))"
   ]
  },
  {
   "cell_type": "code",
   "execution_count": 12,
   "id": "ec9aae0b",
   "metadata": {},
   "outputs": [
    {
     "data": {
      "image/png": "[encoded data removed]",
      "text/plain": [
       "<Figure size 432x288 with 1 Axes>"
      ]
     },
     "metadata": {},
     "output_type": "display_data"
    }
   ],
   "source": [
    "# draw a pie chart of current dataset(after resampling )\n",
    "labels=['Original Images','Rotated Images','Affine Images','Noisy Images','Cropped Images']\n",
    "R=[1,1,1,1,1]  \n",
    "fig = plt.figure()\n",
    "plt.pie(R,labels=labels,autopct='%1.1f%%') #画饼图（数据，数据对应的标签，百分数保留两位小数点）\n",
    "plt.title(\"Dataset after augmentation\")\n",
    "plt.show() "
   ]
  },
  {
   "cell_type": "markdown",
   "id": "eac61d40",
   "metadata": {},
   "source": [
    "## Testing"
   ]
  },
  {
   "cell_type": "code",
   "execution_count": 14,
   "id": "7b49eb2f",
   "metadata": {},
   "outputs": [
    {
     "name": "stdout",
     "output_type": "stream",
     "text": [
      "SVM accuracy:  0.7413873942262609\n"
     ]
    },
    {
     "data": {
      "text/plain": [
       "['expert_dataset2.pkl']"
      ]
     },
     "execution_count": 14,
     "metadata": {},
     "output_type": "execute_result"
    }
   ],
   "source": [
    "# some preprocess\n",
    "X3, y3 = Preprocess.resize(X2, y2)\n",
    "X4, y4 = Preprocess.grayscale(X3, y3)\n",
    "\n",
    "# extracting feature\n",
    "X6, y6 = Preprocess.extractFeature(X4,y4)\n",
    "\n",
    "# split for training set and testing set\n",
    "X_train, X_test, y_train, y_test = train_test_split(X6, y6, test_size = 0.2)\n",
    "\n",
    "# training and testing\n",
    "print(\"SVM accuracy: \",Preprocess.SVM(X_train, y_train, X_test, y_test))\n",
    "# print(\"Random Forest accuracy: \",Preprocess.randomForest(X_train, y_train, X_test, y_test))\n",
    "# print(\"Gaussian Naive Bayes accuracy: \",Preprocess.gaussianNaiveBayes(X_train, y_train, X_test, y_test))\n",
    "# print(\"k-nearest Neighbours accuracy: \",kNearestNeighbours(X_train, y_train, X_test, y_test))\n",
    "# joblib.dump(clf, 'expert_dataset2.pkl')"
   ]
  },
  {
   "cell_type": "code",
   "execution_count": null,
   "id": "d2a0c7b1",
   "metadata": {},
   "outputs": [],
   "source": []
  }
 ],
 "metadata": {
  "kernelspec": {
   "display_name": "Python [conda env:.conda-tensorflow] *",
   "language": "python",
   "name": "conda-env-.conda-tensorflow-py"
  },
  "language_info": {
   "codemirror_mode": {
    "name": "ipython",
    "version": 3
   },
   "file_extension": ".py",
   "mimetype": "text/x-python",
   "name": "python",
   "nbconvert_exporter": "python",
   "pygments_lexer": "ipython3",
   "version": "3.6.2"
  }
 },
 "nbformat": 4,
 "nbformat_minor": 5
}
