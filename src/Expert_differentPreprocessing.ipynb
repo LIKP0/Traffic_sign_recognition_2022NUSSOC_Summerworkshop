{
 "cells": [
  {
   "cell_type": "code",
   "execution_count": 141,
   "id": "bb6e33b3",
   "metadata": {},
   "outputs": [],
   "source": [
    "import glob\n",
    "import cv2\n",
    "import matplotlib.pyplot as plt\n",
    "from PIL import Image, ImageOps, ImageFilter\n",
    "from skimage import data, io, filters\n",
    "from skimage import feature as ft\n",
    "from sklearn.model_selection import train_test_split\n",
    "from sklearn import svm\n",
    "from sklearn.ensemble import RandomForestClassifier\n",
    "from sklearn.naive_bayes import GaussianNB\n",
    "from sklearn.neighbors import KNeighborsClassifier\n",
    "import numpy as np\n",
    "from collections import Counter\n"
   ]
  },
  {
   "cell_type": "markdown",
   "id": "bcfd3468",
   "metadata": {},
   "source": [
    "### 1.Reading images"
   ]
  },
  {
   "cell_type": "code",
   "execution_count": 142,
   "id": "45b0478b",
   "metadata": {},
   "outputs": [
    {
     "name": "stdout",
     "output_type": "stream",
     "text": [
      "5998\n",
      "5998\n"
     ]
    }
   ],
   "source": [
    "dataset_path = \"F:\\\\NUS SOC Summer Workshop\\\\Project 1_ Traffic Sign Recogniti\\\\Dataset_1\\\\images\"\n",
    "\n",
    "X = []\n",
    "y = []\n",
    "for i in glob.glob(dataset_path + '\\\\*.png', recursive=True):\n",
    "    \n",
    "    label = i.split(\"images\")[1][1:4]\n",
    "    y.append(label)\n",
    "    # write code to read ecah file i, and append it to list X\n",
    "    X.append(cv2.imread(i))\n",
    "\n",
    "\n",
    "# you should have X, y with 5998 entries on each.\n",
    "print(len(y))\n",
    "print(len(X))"
   ]
  },
  {
   "cell_type": "markdown",
   "id": "78094e21",
   "metadata": {},
   "source": [
    "### 2.Pre-processing images"
   ]
  },
  {
   "cell_type": "markdown",
   "id": "98743042",
   "metadata": {},
   "source": [
    "#### equalize to make the samples distribute more uniformly"
   ]
  },
  {
   "cell_type": "code",
   "execution_count": 143,
   "id": "32c683f6",
   "metadata": {},
   "outputs": [
    {
     "name": "stdout",
     "output_type": "stream",
     "text": [
      "103.41379310344827\n",
      "62.0\n",
      "7012\n",
      "7012\n"
     ]
    }
   ],
   "source": [
    "# 统计每种标志的个数，并记录在valuelist中\n",
    "for i in y:\n",
    "     #List.count(i)统计列表元素对应的个数\n",
    "    if y.count(i) > 0:\n",
    "        counter[i] = y.count(i)\n",
    "valuelist=[]\n",
    "for key, value in counter.items():\n",
    "    valuelist.append(value)\n",
    "print(np.mean(valuelist))\n",
    "print(np.median(valuelist))\n",
    "\n",
    "# 切片\n",
    "sliceList_X=[]\n",
    "sliceList_y=[]\n",
    "start=0\n",
    "for i in range (0,len(valuelist)):\n",
    "    sliceList_y.append(y[start:start+valuelist[i]])\n",
    "    sliceList_X.append(X[start:start+valuelist[i]])\n",
    "    start=start+valuelist[i]\n",
    "\n",
    "# 补齐至62项(中位数)\n",
    "for i in range (0,len(valuelist)):\n",
    "    if valuelist[i]<62:\n",
    "        n=62-valuelist[i]\n",
    "        for j in range(0,n):\n",
    "            sliceList_y[i].append(sliceList_y[i][0])\n",
    "            sliceList_X[i].append(sliceList_X[i][0])\n",
    "\n",
    "# 合并\n",
    "y=[]\n",
    "X=[]\n",
    "for i in range (0,len(valuelist)):\n",
    "    y.extend(sliceList_y[i])\n",
    "    X.extend(sliceList_X[i])\n",
    "\n",
    "print(len(X))\n",
    "print(len(y))"
   ]
  },
  {
   "cell_type": "markdown",
   "id": "20dc4598",
   "metadata": {},
   "source": [
    "#### resize48by48 & grayscale & equlizeHistogram"
   ]
  },
  {
   "cell_type": "code",
   "execution_count": 147,
   "id": "c43ab86c",
   "metadata": {
    "scrolled": false
   },
   "outputs": [
    {
     "data": {
      "text/plain": [
       "<matplotlib.image.AxesImage at 0x24a1c984b38>"
      ]
     },
     "execution_count": 147,
     "metadata": {},
     "output_type": "execute_result"
    },
    {
     "data": {
      "image/png": "[encoded data removed]",
      "text/plain": [
       "<Figure size 432x288 with 2 Axes>"
      ]
     },
     "metadata": {
      "needs_background": "light"
     },
     "output_type": "display_data"
    }
   ],
   "source": [
    "X_processed=[]\n",
    "for x in X:\n",
    "    # Write code to resize image x to 48x48 and store in temp_x\n",
    "    temp_x = cv2.resize(x, (48, 48))\n",
    "    # Write code to convert temp_x to grayscale\n",
    "    temp_x = cv2.cvtColor(temp_x, cv2.COLOR_BGR2GRAY)\n",
    "    # equalize histogram\n",
    "    temp_x = cv2.equalizeHist(temp_x)\n",
    "    # Append the converted image into X_processed\n",
    "    X_processed.append(temp_x)\n",
    "    \n",
    "fig = plt.figure()\n",
    "fig.add_subplot(1,2,1)\n",
    "plt.imshow(X[1])\n",
    "fig.add_subplot(1, 2, 2)\n",
    "plt.imshow(X_processed[1],cmap='gray')"
   ]
  },
  {
   "cell_type": "markdown",
   "id": "2db77e62",
   "metadata": {},
   "source": [
    "### 3.Calculating Features"
   ]
  },
  {
   "cell_type": "code",
   "execution_count": 148,
   "id": "77cee633",
   "metadata": {},
   "outputs": [],
   "source": [
    "X_features = []\n",
    "for x in X_processed:\n",
    "    x_feature = ft.hog(x, orientations=8, pixels_per_cell=(10, 10),cells_per_block=(1, 1), visualize=False, multichannel=False)\n",
    "    X_features.append(x_feature)"
   ]
  },
  {
   "cell_type": "markdown",
   "id": "08121952",
   "metadata": {},
   "source": [
    "### 4.Training and testing the classifier"
   ]
  },
  {
   "cell_type": "code",
   "execution_count": 149,
   "id": "732e2630",
   "metadata": {},
   "outputs": [
    {
     "name": "stdout",
     "output_type": "stream",
     "text": [
      "SVM: 0.9543834640057021\n",
      "RandomForest: 0.9686386315039202\n",
      "Gaussian Naive Bayes: 0.8082679971489665\n",
      "k-Nearest Neighbours: 0.970064148253742\n"
     ]
    }
   ],
   "source": [
    "# repeat experiment several times\n",
    "for i in range (0,10):\n",
    "    # write code to Split training & testing sets using sklearn.model_selection.train_test_split\n",
    "    X_train, X_test, y_train, y_test = train_test_split(X_features, y, test_size = 0.2)\n",
    "    \n",
    "    #SVM\n",
    "    accuracy_SVM=[]\n",
    "    clf = svm.SVC()\n",
    "    clf.fit(X_train, y_train)\n",
    "    accuracy_SVM.append(clf.score(X_test, y_test))\n",
    "    \n",
    "    #RandomForest classifier\n",
    "    accuracy_rfclf=[]\n",
    "    rfclf = RandomForestClassifier()\n",
    "    rfclf.fit(X_train, y_train)\n",
    "    accuracy_rfclf.append(rfclf.score(X_test, y_test))\n",
    "    \n",
    "    #Gaussian Naive Bayes\n",
    "    accuracy_gnbclf=[]\n",
    "    gnbclf = GaussianNB()\n",
    "    gnbclf.fit(X_train, y_train)\n",
    "    accuracy_gnbclf.append(gnbclf.score(X_test, y_test))\n",
    "    \n",
    "    #k-Nearest Neighbours classifier (k=1)\n",
    "    accuracy_kneighclf=[]\n",
    "    kneighclf = KNeighborsClassifier(n_neighbors=1)\n",
    "    kneighclf.fit(X_train, y_train)\n",
    "    accuracy_kneighclf.append(kneighclf.score(X_test, y_test))\n",
    "\n",
    "print('SVM:',np.mean(accuracy_SVM))\n",
    "print('RandomForest:',np.mean(accuracy_rfclf))\n",
    "print('Gaussian Naive Bayes:',np.mean(accuracy_gnbclf))\n",
    "print('k-Nearest Neighbours:',np.mean(accuracy_kneighclf))"
   ]
  },
  {
   "cell_type": "code",
   "execution_count": null,
   "id": "f84eef00",
   "metadata": {},
   "outputs": [],
   "source": []
  }
 ],
 "metadata": {
  "kernelspec": {
   "display_name": "Python [conda env:.conda-tensorflow] *",
   "language": "python",
   "name": "conda-env-.conda-tensorflow-py"
  },
  "language_info": {
   "codemirror_mode": {
    "name": "ipython",
    "version": 3
   },
   "file_extension": ".py",
   "mimetype": "text/x-python",
   "name": "python",
   "nbconvert_exporter": "python",
   "pygments_lexer": "ipython3",
   "version": "3.6.2"
  }
 },
 "nbformat": 4,
 "nbformat_minor": 5
}
