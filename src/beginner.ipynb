{
 "cells": [
  {
   "cell_type": "code",
   "execution_count": 61,
   "id": "8db8ba71",
   "metadata": {},
   "outputs": [],
   "source": [
    "import glob\n",
    "import cv2\n",
    "import matplotlib.pyplot as plt\n",
    "from PIL import Image, ImageOps, ImageFilter\n",
    "from skimage import data, io, filters\n",
    "from skimage import feature as ft\n",
    "from sklearn.model_selection import train_test_split\n",
    "from sklearn import svm"
   ]
  },
  {
   "cell_type": "markdown",
   "id": "3939920e",
   "metadata": {},
   "source": [
    "## T1"
   ]
  },
  {
   "cell_type": "code",
   "execution_count": 22,
   "id": "de1f534c",
   "metadata": {},
   "outputs": [
    {
     "name": "stdout",
     "output_type": "stream",
     "text": [
      "5998\n",
      "5998\n"
     ]
    }
   ],
   "source": [
    "# T1  start _______________________________________________________________________________\n",
    "# Read in Dataset\n",
    "\n",
    "# change the dataset path here according to your folder structure\n",
    "dataset_path = \"F:\\\\NUS SOC Summer Workshop\\\\Project 1_ Traffic Sign Recogniti\\\\Dataset_1\\\\images\"\n",
    "\n",
    "X = []\n",
    "y = []\n",
    "for i in glob.glob(dataset_path + '\\\\*.png', recursive=True):\n",
    "    \n",
    "    label = i.split(\"images\")[1][1:4]\n",
    "    y.append(label)\n",
    "    # write code to read ecah file i, and append it to list X\n",
    "    X.append(cv2.imread(i))\n",
    "\n",
    "\n",
    "# you should have X, y with 5998 entries on each.\n",
    "print(len(y))\n",
    "print(len(X))\n",
    "# T1 end ____________________________________________________________________________________"
   ]
  },
  {
   "cell_type": "markdown",
   "id": "d4df6056",
   "metadata": {},
   "source": [
    "## T2"
   ]
  },
  {
   "cell_type": "code",
   "execution_count": 44,
   "id": "0ddf45c8",
   "metadata": {},
   "outputs": [
    {
     "name": "stdout",
     "output_type": "stream",
     "text": [
      "5998\n"
     ]
    },
    {
     "data": {
      "image/png": "[encoded data removed]",
      "text/plain": [
       "<Figure size 432x288 with 2 Axes>"
      ]
     },
     "metadata": {
      "needs_background": "light"
     },
     "output_type": "display_data"
    }
   ],
   "source": [
    "# T2 start __________________________________________________________________________________\n",
    "# Preprocessing\n",
    "X_processed=[]\n",
    "for x in X:\n",
    "    # Write code to resize image x to 48x48 and store in temp_x\n",
    "    temp_x = cv2.resize(x, (48, 48))\n",
    "    # Write code to convert temp_x to grayscale\n",
    "    temp_x_gray = cv2.cvtColor(temp_x, cv2.COLOR_BGR2GRAY)\n",
    "    # Append the converted image into X_processed\n",
    "    X_processed.append(temp_x_gray)\n",
    "# T2 end ____________________________________________________________________________________\n",
    "fig = plt.figure()\n",
    "fig.add_subplot(1, 2, 1)\n",
    "plt.imshow(X[1])\n",
    "fig.add_subplot(1, 2, 2)\n",
    "plt.imshow(X_processed[1])\n",
    "print(len(X_processed))"
   ]
  },
  {
   "cell_type": "markdown",
   "id": "104b46f0",
   "metadata": {},
   "source": [
    "## T3"
   ]
  },
  {
   "cell_type": "code",
   "execution_count": 59,
   "id": "d42ca134",
   "metadata": {},
   "outputs": [
    {
     "name": "stdout",
     "output_type": "stream",
     "text": [
      "4798 1200 4798 1200\n"
     ]
    }
   ],
   "source": [
    "# T3 start __________________________________________________________________________________\n",
    "# Feature extraction\n",
    "X_features = []\n",
    "for x in X_processed:\n",
    "    x_feature = ft.hog(x, orientations=8, pixels_per_cell=(10, 10),cells_per_block=(1, 1), visualize=False, multichannel=False)\n",
    "    X_features.append(x_feature)\n",
    "\n",
    "# write code to Split training & testing sets using sklearn.model_selection.train_test_split\n",
    "X_train, X_test, y_train, y_test = train_test_split(X_features, y, test_size = 0.2)\n",
    "\n",
    "#T3 end ____________________________________________________________________________________\n",
    "print(len(X_train),len(X_test),len(y_train),len(y_test))"
   ]
  },
  {
   "cell_type": "markdown",
   "id": "8e744287",
   "metadata": {},
   "source": [
    "## T4"
   ]
  },
  {
   "cell_type": "code",
   "execution_count": 64,
   "id": "0e32383f",
   "metadata": {},
   "outputs": [
    {
     "data": {
      "text/plain": [
       "0.9441666666666667"
      ]
     },
     "execution_count": 64,
     "metadata": {},
     "output_type": "execute_result"
    }
   ],
   "source": [
    "#T4 start __________________________________________________________________________________\n",
    "# train SVC\n",
    "clf = svm.SVC()\n",
    "clf.fit(X_train, y_train)\n",
    "clf.score(X_test, y_test)"
   ]
  },
  {
   "cell_type": "code",
   "execution_count": null,
   "id": "f5b4b654",
   "metadata": {},
   "outputs": [],
   "source": []
  }
 ],
 "metadata": {
  "kernelspec": {
   "display_name": "Python [conda env:.conda-tensorflow] *",
   "language": "python",
   "name": "conda-env-.conda-tensorflow-py"
  },
  "language_info": {
   "codemirror_mode": {
    "name": "ipython",
    "version": 3
   },
   "file_extension": ".py",
   "mimetype": "text/x-python",
   "name": "python",
   "nbconvert_exporter": "python",
   "pygments_lexer": "ipython3",
   "version": "3.6.2"
  }
 },
 "nbformat": 4,
 "nbformat_minor": 5
}
