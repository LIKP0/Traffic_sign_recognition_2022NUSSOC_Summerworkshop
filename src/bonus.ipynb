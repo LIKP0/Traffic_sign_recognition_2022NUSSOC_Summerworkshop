{
 "cells": [
  {
   "cell_type": "code",
   "execution_count": 31,
   "id": "2db72d61",
   "metadata": {},
   "outputs": [],
   "source": [
    "import cv2\n",
    "import glob\n",
    "import pandas as pd\n",
    "import numpy as np\n",
    "import matplotlib.pyplot as plt\n",
    "from PIL import Image, ImageOps, ImageFilter\n",
    "from skimage import data, io, filters\n",
    "from skimage import feature as ft\n",
    "from sklearn.model_selection import train_test_split\n",
    "from sklearn import svm\n",
    "\n",
    "# Read in dataset\n",
    "image_root_path = r'E:/NUS/Project1/'\n",
    "train_file_path = r'E:\\NUS\\Project1\\Train.csv'\n",
    "test_file_path = r'E:\\NUS\\Project1\\Test.csv'"
   ]
  },
  {
   "cell_type": "code",
   "execution_count": 40,
   "id": "d1093e51",
   "metadata": {},
   "outputs": [],
   "source": [
    "train, train_labels, test, test_labels = [], [], [], []\n",
    "df_train = pd.read_csv(train_file_path)\n",
    "df_test = pd.read_csv(test_file_path)\n",
    "for idx, row in df_train.iterrows():\n",
    "    # read image\n",
    "    file_path = image_root_path + row['Path']\n",
    "    train.append(cv2.imread(file_path))\n",
    "    train_labels.append(row['ClassId'])\n",
    "\n",
    "for idx, row in df_test.iterrows():\n",
    "    # read image\n",
    "    file_path = image_root_path + row['Path']\n",
    "    test.append(cv2.imread(file_path))\n",
    "    test_labels.append(row['ClassId'])"
   ]
  },
  {
   "cell_type": "code",
   "execution_count": 51,
   "id": "820054d7",
   "metadata": {},
   "outputs": [
    {
     "data": {
      "text/plain": [
       "12630"
      ]
     },
     "execution_count": 51,
     "metadata": {},
     "output_type": "execute_result"
    }
   ],
   "source": []
  },
  {
   "cell_type": "code",
   "execution_count": 42,
   "id": "609cbc00",
   "metadata": {},
   "outputs": [],
   "source": [
    "# Preprocessing\n",
    "train_processed = []\n",
    "test_processed = []\n",
    "for x in train:\n",
    "    # Write code to resize image x to 48x48 and store in temp_x\n",
    "    temp_x = cv2.resize(x, (48, 48))\n",
    "    # Write code to convert temp_x to grayscale\n",
    "    temp_x_gray = cv2.cvtColor(temp_x, cv2.COLOR_BGR2GRAY)\n",
    "    # Append the converted image into X_processed\n",
    "    train_processed.append(temp_x_gray)\n",
    "for x in test:\n",
    "    # Write code to resize image x to 48x48 and store in temp_x\n",
    "    temp_x = cv2.resize(x, (48, 48))\n",
    "    # Write code to convert temp_x to grayscale\n",
    "    temp_x_gray = cv2.cvtColor(temp_x, cv2.COLOR_BGR2GRAY)\n",
    "    # Append the converted image into X_processed\n",
    "    test_processed.append(temp_x_gray)"
   ]
  },
  {
   "cell_type": "code",
   "execution_count": 52,
   "id": "b5a5d893",
   "metadata": {},
   "outputs": [
    {
     "data": {
      "text/plain": [
       "12630"
      ]
     },
     "execution_count": 52,
     "metadata": {},
     "output_type": "execute_result"
    }
   ],
   "source": [
    "len(test_processed)"
   ]
  },
  {
   "cell_type": "code",
   "execution_count": 53,
   "id": "f702d514",
   "metadata": {},
   "outputs": [],
   "source": [
    "# Feature extraction\n",
    "train_features = []\n",
    "test_features = []\n",
    "for x in train_processed:\n",
    "    x_feature = ft.hog(x, orientations=8, pixels_per_cell=(10, 10),cells_per_block=(1, 1), visualize=False, multichannel=False)\n",
    "    train_features.append(x_feature)\n",
    "\n",
    "for x in test_processed:\n",
    "    x_feature = ft.hog(x, orientations=8, pixels_per_cell=(10, 10),cells_per_block=(1, 1), visualize=False, multichannel=False)\n",
    "    test_features.append(x_feature)\n"
   ]
  },
  {
   "cell_type": "code",
   "execution_count": 55,
   "id": "e18606ca",
   "metadata": {},
   "outputs": [
    {
     "data": {
      "text/plain": [
       "(12630, 128)"
      ]
     },
     "execution_count": 55,
     "metadata": {},
     "output_type": "execute_result"
    }
   ],
   "source": [
    "np.array(test_features).shape"
   ]
  },
  {
   "cell_type": "code",
   "execution_count": 56,
   "id": "a4b6f97e",
   "metadata": {},
   "outputs": [
    {
     "data": {
      "text/plain": [
       "SVC()"
      ]
     },
     "execution_count": 56,
     "metadata": {},
     "output_type": "execute_result"
    }
   ],
   "source": [
    "clf = svm.SVC()\n",
    "clf.fit(train_features, train_labels)"
   ]
  },
  {
   "cell_type": "code",
   "execution_count": 58,
   "id": "faa16585",
   "metadata": {},
   "outputs": [
    {
     "name": "stdout",
     "output_type": "stream",
     "text": [
      "91.88137650489807\n"
     ]
    }
   ],
   "source": [
    "import time\n",
    "start = time.time()\n",
    "clf.score(test_features, test_labels)\n",
    "print(time.time() - start)"
   ]
  },
  {
   "cell_type": "code",
   "execution_count": null,
   "id": "57a95a27",
   "metadata": {},
   "outputs": [],
   "source": []
  }
 ],
 "metadata": {
  "kernelspec": {
   "display_name": "Python 3",
   "language": "python",
   "name": "python3"
  },
  "language_info": {
   "codemirror_mode": {
    "name": "ipython",
    "version": 3
   },
   "file_extension": ".py",
   "mimetype": "text/x-python",
   "name": "python",
   "nbconvert_exporter": "python",
   "pygments_lexer": "ipython3",
   "version": "3.8.5"
  }
 },
 "nbformat": 4,
 "nbformat_minor": 5
}
