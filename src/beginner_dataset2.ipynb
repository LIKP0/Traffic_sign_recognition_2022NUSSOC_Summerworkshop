{
 "cells": [
  {
   "cell_type": "code",
   "execution_count": 26,
   "id": "fbb1e905",
   "metadata": {},
   "outputs": [],
   "source": [
    "import glob\n",
    "import cv2\n",
    "import matplotlib.pyplot as plt\n",
    "from PIL import Image, ImageOps, ImageFilter\n",
    "from skimage import data, io, filters\n",
    "from skimage import feature as ft\n",
    "from sklearn.model_selection import train_test_split\n",
    "from sklearn import svm\n",
    "from sklearn.ensemble import RandomForestClassifier\n",
    "from sklearn.naive_bayes import GaussianNB\n",
    "from sklearn.neighbors import KNeighborsClassifier\n",
    "import numpy as np\n",
    "from collections import Counter\n"
   ]
  },
  {
   "cell_type": "markdown",
   "id": "aca0f4e3",
   "metadata": {},
   "source": [
    "### 1.Read the images"
   ]
  },
  {
   "cell_type": "code",
   "execution_count": 33,
   "id": "710cc3d8",
   "metadata": {},
   "outputs": [
    {
     "name": "stdout",
     "output_type": "stream",
     "text": [
      "39209\n",
      "39209\n"
     ]
    }
   ],
   "source": [
    "X = []\n",
    "y = []\n",
    "\n",
    "for j in range (0,43):\n",
    "    dataset_path = \"F:\\\\NUS SOC Summer Workshop\\\\Project 1_ Traffic Sign Recogniti\\\\Dataset_2_Train\\\\Train\\\\\" + str(j)\n",
    "    for i in glob.glob(dataset_path + '\\\\*.png', recursive=True):\n",
    "        label = i.split(\"Train\")[2][3:8]\n",
    "        # write code to read ecah file i, and append it to list X\n",
    "        y.append(label)\n",
    "        X.append(cv2.imread(i))\n",
    "       \n",
    "print(len(y))\n",
    "print(len(X))"
   ]
  },
  {
   "cell_type": "markdown",
   "id": "0b5bd344",
   "metadata": {},
   "source": [
    "### 2.Pre-processing images"
   ]
  },
  {
   "cell_type": "markdown",
   "id": "674ee43a",
   "metadata": {},
   "source": [
    "#### resize48by48 & grayscale"
   ]
  },
  {
   "cell_type": "code",
   "execution_count": 34,
   "id": "355761fe",
   "metadata": {},
   "outputs": [
    {
     "data": {
      "text/plain": [
       "<matplotlib.image.AxesImage at 0x15d227cf3c8>"
      ]
     },
     "execution_count": 34,
     "metadata": {},
     "output_type": "execute_result"
    },
    {
     "data": {
      "image/png": "[encoded data removed]",
      "text/plain": [
       "<Figure size 432x288 with 2 Axes>"
      ]
     },
     "metadata": {
      "needs_background": "light"
     },
     "output_type": "display_data"
    }
   ],
   "source": [
    "X_processed=[]\n",
    "for x in X:\n",
    "    # Write code to resize image x to 48x48 and store in temp_x\n",
    "    temp_x = cv2.resize(x, (48, 48))\n",
    "    # Write code to convert temp_x to grayscale\n",
    "    temp_x = cv2.cvtColor(temp_x, cv2.COLOR_BGR2GRAY)\n",
    "    # Append the converted image into X_processed\n",
    "    X_processed.append(temp_x)\n",
    "\n",
    "fig = plt.figure()\n",
    "fig.add_subplot(1,2,1)\n",
    "plt.imshow(X[0])\n",
    "fig.add_subplot(1, 2, 2)\n",
    "plt.imshow(X_processed[0],cmap='gray')\n"
   ]
  },
  {
   "cell_type": "markdown",
   "id": "0de296cd",
   "metadata": {},
   "source": [
    "#### equalize to make the samples distribute more uniformly"
   ]
  },
  {
   "cell_type": "code",
   "execution_count": 35,
   "id": "b2245bcd",
   "metadata": {},
   "outputs": [
    {
     "name": "stdout",
     "output_type": "stream",
     "text": [
      "2800.6428571428573\n",
      "1665.0\n",
      "43664\n",
      "43664\n"
     ]
    }
   ],
   "source": [
    "# 统计每种标志的个数，并记录在valuelist中\n",
    "counter={}\n",
    "for i in y:\n",
    "     #List.count(i)统计列表元素对应的个数\n",
    "    if y.count(i) > 0:\n",
    "        counter[i] = y.count(i)\n",
    "valuelist=[]\n",
    "for key, value in counter.items():\n",
    "    valuelist.append(value)\n",
    "print(np.mean(valuelist))\n",
    "print(np.median(valuelist))\n",
    "\n",
    "# 切片\n",
    "sliceList_X=[]\n",
    "sliceList_y=[]\n",
    "start=0\n",
    "for i in range (0,len(valuelist)):\n",
    "    sliceList_y.append(y[start:start+valuelist[i]])\n",
    "    sliceList_X.append(X_processed[start:start+valuelist[i]])\n",
    "    start=start+valuelist[i]\n",
    "\n",
    "# 补齐至中位数\n",
    "m=int(np.median(valuelist))\n",
    "for i in range (0,len(valuelist)):\n",
    "    if valuelist[i]<m:\n",
    "        n=m-valuelist[i]\n",
    "        k=0\n",
    "        for j in range(0,n):            \n",
    "            sliceList_y[i].append(sliceList_y[i][k])\n",
    "            sliceList_X[i].append(sliceList_X[i][k])\n",
    "            k=k+1\n",
    "            if k==valuelist[i]:\n",
    "                k=0\n",
    "                \n",
    "# 合并\n",
    "y=[]\n",
    "X_processed=[]\n",
    "for i in range (0,len(valuelist)):\n",
    "    y.extend(sliceList_y[i])\n",
    "    X_processed.extend(sliceList_X[i])\n",
    "\n",
    "print(len(X_processed))\n",
    "print(len(y))"
   ]
  },
  {
   "cell_type": "markdown",
   "id": "082c0e5f",
   "metadata": {},
   "source": [
    "### 3.Calculating Features"
   ]
  },
  {
   "cell_type": "code",
   "execution_count": 36,
   "id": "10d7a64c",
   "metadata": {},
   "outputs": [],
   "source": [
    "X_features = []\n",
    "for x in X_processed:\n",
    "    x_feature = ft.hog(x, orientations=8, pixels_per_cell=(10, 10),cells_per_block=(1, 1), visualize=False, multichannel=False)\n",
    "    X_features.append(x_feature)"
   ]
  },
  {
   "cell_type": "markdown",
   "id": "d9ca11dd",
   "metadata": {},
   "source": [
    "### 4.Training and testing the classifier"
   ]
  },
  {
   "cell_type": "code",
   "execution_count": 37,
   "id": "e532cee5",
   "metadata": {},
   "outputs": [
    {
     "data": {
      "text/plain": [
       "0.9189282033665407"
      ]
     },
     "execution_count": 37,
     "metadata": {},
     "output_type": "execute_result"
    }
   ],
   "source": [
    "X_train, X_test, y_train, y_test = train_test_split(X_features, y, test_size = 0.2)\n",
    "# SVC\n",
    "clf = svm.SVC()\n",
    "clf.fit(X_train, y_train)\n",
    "clf.score(X_test, y_test)"
   ]
  },
  {
   "cell_type": "code",
   "execution_count": null,
   "id": "2acdf116",
   "metadata": {},
   "outputs": [],
   "source": []
  }
 ],
 "metadata": {
  "kernelspec": {
   "display_name": "Python [conda env:.conda-tensorflow] *",
   "language": "python",
   "name": "conda-env-.conda-tensorflow-py"
  },
  "language_info": {
   "codemirror_mode": {
    "name": "ipython",
    "version": 3
   },
   "file_extension": ".py",
   "mimetype": "text/x-python",
   "name": "python",
   "nbconvert_exporter": "python",
   "pygments_lexer": "ipython3",
   "version": "3.6.2"
  }
 },
 "nbformat": 4,
 "nbformat_minor": 5
}
